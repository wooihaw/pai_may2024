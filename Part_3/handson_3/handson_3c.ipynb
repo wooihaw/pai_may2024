{
 "cells": [
  {
   "cell_type": "markdown",
   "id": "67305e82",
   "metadata": {
    "colab_type": "text",
    "id": "view-in-github"
   },
   "source": [
    "<a href=\"https://colab.research.google.com/github/wooihaw/pai_may2024/blob/main/Part_3/handson_3/handson_3c.ipynb\" target=\"_parent\"><img src=\"https://colab.research.google.com/assets/colab-badge.svg\" alt=\"Open In Colab\"/></a>"
   ]
  },
  {
   "cell_type": "markdown",
   "id": "9acdec19",
   "metadata": {
    "id": "9acdec19"
   },
   "source": [
    "## Hands-on 3C\n",
    "#### Build 3 classification models to classify faulty steel plates. The dataset contains information about steel plates and their faults. There are 27 features and the data samples have been classified into 7 different types of steel plate faults."
   ]
  },
  {
   "cell_type": "code",
   "execution_count": 1,
   "id": "6481264f",
   "metadata": {
    "id": "6481264f",
    "tags": []
   },
   "outputs": [],
   "source": [
    "# Initialization\n",
    "%matplotlib inline\n",
    "from warnings import filterwarnings\n",
    "filterwarnings('ignore')"
   ]
  },
  {
   "cell_type": "code",
   "execution_count": 2,
   "id": "1ae13063",
   "metadata": {
    "id": "1ae13063",
    "tags": []
   },
   "outputs": [],
   "source": [
    "# Load the required libraries\n",
    "import sys\n",
    "from pandas import read_csv\n",
    "from sklearn.model_selection import train_test_split as split, KFold, cross_val_score\n",
    "from sklearn.linear_model import LogisticRegression\n",
    "from sklearn.tree import DecisionTreeClassifier\n",
    "from sklearn.neighbors import KNeighborsClassifier\n",
    "from sklearn.preprocessing import StandardScaler\n",
    "from sklearn.decomposition import PCA"
   ]
  },
  {
   "cell_type": "code",
   "execution_count": 3,
   "id": "5dbfb794",
   "metadata": {
    "id": "5dbfb794",
    "tags": []
   },
   "outputs": [],
   "source": [
    "# Load the dataset\n",
    "# Determine the environment\n",
    "is_colab = 'google.colab' in sys.modules\n",
    "\n",
    "# Execute code conditionally\n",
    "if is_colab:\n",
    "    # Code for Google Colab environment\n",
    "    df = read_csv(\"https://raw.githubusercontent.com/wooihaw/datasets/main/steel_faults.csv\")\n",
    "else:\n",
    "    # Code for local Jupyter Notebook environment\n",
    "    df = read_csv(\"steel_faults.csv\")"
   ]
  },
  {
   "cell_type": "markdown",
   "id": "f1ac88e3",
   "metadata": {
    "id": "f1ac88e3"
   },
   "source": [
    "**To do:**\n",
    "- Print 5 random data samples from the dataset"
   ]
  },
  {
   "cell_type": "code",
   "execution_count": 4,
   "id": "a3f0b6ab",
   "metadata": {
    "id": "a3f0b6ab",
    "tags": []
   },
   "outputs": [
    {
     "data": {
      "text/html": [
       "<div>\n",
       "<style scoped>\n",
       "    .dataframe tbody tr th:only-of-type {\n",
       "        vertical-align: middle;\n",
       "    }\n",
       "\n",
       "    .dataframe tbody tr th {\n",
       "        vertical-align: top;\n",
       "    }\n",
       "\n",
       "    .dataframe thead th {\n",
       "        text-align: right;\n",
       "    }\n",
       "</style>\n",
       "<table border=\"1\" class=\"dataframe\">\n",
       "  <thead>\n",
       "    <tr style=\"text-align: right;\">\n",
       "      <th></th>\n",
       "      <th>X_Minimum</th>\n",
       "      <th>X_Maximum</th>\n",
       "      <th>Y_Minimum</th>\n",
       "      <th>Y_Maximum</th>\n",
       "      <th>Pixels_Areas</th>\n",
       "      <th>X_Perimeter</th>\n",
       "      <th>Y_Perimeter</th>\n",
       "      <th>Sum_of_Luminosity</th>\n",
       "      <th>Minimum_of_Luminosity</th>\n",
       "      <th>Maximum_of_Luminosity</th>\n",
       "      <th>...</th>\n",
       "      <th>Edges_X_Index</th>\n",
       "      <th>Edges_Y_Index</th>\n",
       "      <th>Outside_Global_Index</th>\n",
       "      <th>LogOfAreas</th>\n",
       "      <th>Log_X_Index</th>\n",
       "      <th>Log_Y_Index</th>\n",
       "      <th>Orientation_Index</th>\n",
       "      <th>Luminosity_Index</th>\n",
       "      <th>SigmoidOfAreas</th>\n",
       "      <th>Fault</th>\n",
       "    </tr>\n",
       "  </thead>\n",
       "  <tbody>\n",
       "    <tr>\n",
       "      <th>961</th>\n",
       "      <td>143</td>\n",
       "      <td>151</td>\n",
       "      <td>3986260</td>\n",
       "      <td>3986268</td>\n",
       "      <td>51</td>\n",
       "      <td>10</td>\n",
       "      <td>8</td>\n",
       "      <td>5716</td>\n",
       "      <td>102</td>\n",
       "      <td>125</td>\n",
       "      <td>...</td>\n",
       "      <td>0.8000</td>\n",
       "      <td>1.0000</td>\n",
       "      <td>0.5</td>\n",
       "      <td>1.7076</td>\n",
       "      <td>0.9031</td>\n",
       "      <td>0.9031</td>\n",
       "      <td>0.0000</td>\n",
       "      <td>-0.1244</td>\n",
       "      <td>0.1696</td>\n",
       "      <td>Bumps</td>\n",
       "    </tr>\n",
       "    <tr>\n",
       "      <th>1752</th>\n",
       "      <td>151</td>\n",
       "      <td>161</td>\n",
       "      <td>2368336</td>\n",
       "      <td>2368345</td>\n",
       "      <td>59</td>\n",
       "      <td>11</td>\n",
       "      <td>9</td>\n",
       "      <td>5637</td>\n",
       "      <td>86</td>\n",
       "      <td>103</td>\n",
       "      <td>...</td>\n",
       "      <td>0.9091</td>\n",
       "      <td>1.0000</td>\n",
       "      <td>0.0</td>\n",
       "      <td>1.7708</td>\n",
       "      <td>1.0000</td>\n",
       "      <td>0.9542</td>\n",
       "      <td>-0.1000</td>\n",
       "      <td>-0.2536</td>\n",
       "      <td>0.1954</td>\n",
       "      <td>Other_Faults</td>\n",
       "    </tr>\n",
       "    <tr>\n",
       "      <th>19</th>\n",
       "      <td>1601</td>\n",
       "      <td>1613</td>\n",
       "      <td>21349</td>\n",
       "      <td>21376</td>\n",
       "      <td>209</td>\n",
       "      <td>15</td>\n",
       "      <td>27</td>\n",
       "      <td>24807</td>\n",
       "      <td>96</td>\n",
       "      <td>141</td>\n",
       "      <td>...</td>\n",
       "      <td>0.8000</td>\n",
       "      <td>1.0000</td>\n",
       "      <td>1.0</td>\n",
       "      <td>2.3201</td>\n",
       "      <td>1.0792</td>\n",
       "      <td>1.4314</td>\n",
       "      <td>0.5556</td>\n",
       "      <td>-0.0727</td>\n",
       "      <td>0.5362</td>\n",
       "      <td>Pastry</td>\n",
       "    </tr>\n",
       "    <tr>\n",
       "      <th>842</th>\n",
       "      <td>625</td>\n",
       "      <td>635</td>\n",
       "      <td>1981388</td>\n",
       "      <td>1981483</td>\n",
       "      <td>571</td>\n",
       "      <td>68</td>\n",
       "      <td>95</td>\n",
       "      <td>64701</td>\n",
       "      <td>98</td>\n",
       "      <td>135</td>\n",
       "      <td>...</td>\n",
       "      <td>0.1471</td>\n",
       "      <td>1.0000</td>\n",
       "      <td>1.0</td>\n",
       "      <td>2.7566</td>\n",
       "      <td>1.0000</td>\n",
       "      <td>1.9777</td>\n",
       "      <td>0.8947</td>\n",
       "      <td>-0.1147</td>\n",
       "      <td>0.9869</td>\n",
       "      <td>Dirtiness</td>\n",
       "    </tr>\n",
       "    <tr>\n",
       "      <th>679</th>\n",
       "      <td>41</td>\n",
       "      <td>218</td>\n",
       "      <td>2698232</td>\n",
       "      <td>2698294</td>\n",
       "      <td>6327</td>\n",
       "      <td>275</td>\n",
       "      <td>148</td>\n",
       "      <td>660291</td>\n",
       "      <td>40</td>\n",
       "      <td>126</td>\n",
       "      <td>...</td>\n",
       "      <td>0.6436</td>\n",
       "      <td>0.4189</td>\n",
       "      <td>0.0</td>\n",
       "      <td>3.8012</td>\n",
       "      <td>2.2480</td>\n",
       "      <td>1.7924</td>\n",
       "      <td>-0.6497</td>\n",
       "      <td>-0.1847</td>\n",
       "      <td>1.0000</td>\n",
       "      <td>K_Scatch</td>\n",
       "    </tr>\n",
       "  </tbody>\n",
       "</table>\n",
       "<p>5 rows × 28 columns</p>\n",
       "</div>"
      ],
      "text/plain": [
       "      X_Minimum  X_Maximum  Y_Minimum  Y_Maximum  Pixels_Areas  X_Perimeter  \\\n",
       "961         143        151    3986260    3986268            51           10   \n",
       "1752        151        161    2368336    2368345            59           11   \n",
       "19         1601       1613      21349      21376           209           15   \n",
       "842         625        635    1981388    1981483           571           68   \n",
       "679          41        218    2698232    2698294          6327          275   \n",
       "\n",
       "      Y_Perimeter  Sum_of_Luminosity  Minimum_of_Luminosity  \\\n",
       "961             8               5716                    102   \n",
       "1752            9               5637                     86   \n",
       "19             27              24807                     96   \n",
       "842            95              64701                     98   \n",
       "679           148             660291                     40   \n",
       "\n",
       "      Maximum_of_Luminosity  ...  Edges_X_Index  Edges_Y_Index  \\\n",
       "961                     125  ...         0.8000         1.0000   \n",
       "1752                    103  ...         0.9091         1.0000   \n",
       "19                      141  ...         0.8000         1.0000   \n",
       "842                     135  ...         0.1471         1.0000   \n",
       "679                     126  ...         0.6436         0.4189   \n",
       "\n",
       "      Outside_Global_Index  LogOfAreas  Log_X_Index  Log_Y_Index  \\\n",
       "961                    0.5      1.7076       0.9031       0.9031   \n",
       "1752                   0.0      1.7708       1.0000       0.9542   \n",
       "19                     1.0      2.3201       1.0792       1.4314   \n",
       "842                    1.0      2.7566       1.0000       1.9777   \n",
       "679                    0.0      3.8012       2.2480       1.7924   \n",
       "\n",
       "      Orientation_Index  Luminosity_Index  SigmoidOfAreas         Fault  \n",
       "961              0.0000           -0.1244          0.1696         Bumps  \n",
       "1752            -0.1000           -0.2536          0.1954  Other_Faults  \n",
       "19               0.5556           -0.0727          0.5362        Pastry  \n",
       "842              0.8947           -0.1147          0.9869     Dirtiness  \n",
       "679             -0.6497           -0.1847          1.0000      K_Scatch  \n",
       "\n",
       "[5 rows x 28 columns]"
      ]
     },
     "execution_count": 4,
     "metadata": {},
     "output_type": "execute_result"
    }
   ],
   "source": [
    "df.sample(5)"
   ]
  },
  {
   "cell_type": "markdown",
   "id": "c01cb8e5",
   "metadata": {
    "id": "c01cb8e5"
   },
   "source": [
    "**To do:**\n",
    "- Separate the dataset into features (X) and targets (y)"
   ]
  },
  {
   "cell_type": "code",
   "execution_count": 5,
   "id": "60dcdb69",
   "metadata": {
    "id": "60dcdb69",
    "tags": []
   },
   "outputs": [
    {
     "name": "stdout",
     "output_type": "stream",
     "text": [
      "(1941, 27) (1941,)\n"
     ]
    }
   ],
   "source": [
    "X = df.drop(columns=[\"Fault\"])\n",
    "y = df[\"Fault\"]\n",
    "print(X.shape, y.shape)"
   ]
  },
  {
   "cell_type": "markdown",
   "id": "a354ee9c",
   "metadata": {
    "id": "a354ee9c"
   },
   "source": [
    "**To do:**\n",
    "- Evaluate the performance of k-Nearest Neighbors, Logistic Regression and Decision Tree on this dataset using 5-fold cross validation."
   ]
  },
  {
   "cell_type": "code",
   "execution_count": 6,
   "id": "89c13b59",
   "metadata": {
    "id": "89c13b59",
    "tags": []
   },
   "outputs": [
    {
     "name": "stdout",
     "output_type": "stream",
     "text": [
      "knn: 46.368%, 3.167%\n",
      "lgr: 45.646%, 2.028%\n",
      "dtc: 71.251%, 0.813%\n"
     ]
    }
   ],
   "source": [
    "# Use spot-checking to quickly evaluate multiple ML algorithms\n",
    "models = {}\n",
    "models[\"knn\"] = KNeighborsClassifier()\n",
    "models[\"lgr\"] = LogisticRegression()\n",
    "models[\"dtc\"] = DecisionTreeClassifier()\n",
    "\n",
    "kf = KFold(n_splits=5, shuffle=True, random_state=42)\n",
    "for k in models:\n",
    "    scores = cross_val_score(models[k], X, y, cv=kf, n_jobs=-1)\n",
    "    print(f\"{k}: {scores.mean():.3%}, {scores.std():.3%}\")"
   ]
  },
  {
   "cell_type": "markdown",
   "id": "6b870137",
   "metadata": {
    "id": "6b870137"
   },
   "source": [
    "**To do:**\n",
    "- Peform feature scaling using standard scaler. Evaluate the performance of k-Nearest Neighbors, Logistic Regression and Decision Tree on the scaled features using 5-fold cross validation."
   ]
  },
  {
   "cell_type": "code",
   "execution_count": 7,
   "id": "dd8607c8",
   "metadata": {
    "id": "dd8607c8",
    "tags": []
   },
   "outputs": [
    {
     "name": "stdout",
     "output_type": "stream",
     "text": [
      "After feature scaling\n",
      "knn: 73.983%, 2.111%\n",
      "lgr: 71.302%, 3.089%\n",
      "dtc: 69.911%, 1.592%\n"
     ]
    }
   ],
   "source": [
    "scl = StandardScaler()\n",
    "Xs = scl.fit_transform(X)\n",
    "\n",
    "print(\"After feature scaling\")\n",
    "for k in models:\n",
    "    scores = cross_val_score(models[k], Xs, y, cv=kf, n_jobs=-1)\n",
    "    print(f\"{k}: {scores.mean():.3%}, {scores.std():.3%}\")"
   ]
  },
  {
   "cell_type": "markdown",
   "id": "29c9798a",
   "metadata": {
    "id": "29c9798a"
   },
   "source": [
    "**To do:**\n",
    "- Use Principle Component Analysis (PCA) to reduce the dimensionality of the scaled features to 13. Evaluate the performance of k-Nearest Neighbors, Logistic Regression and Decision Tree on these features using 5-fold cross validation."
   ]
  },
  {
   "cell_type": "code",
   "execution_count": 8,
   "id": "8585e37c",
   "metadata": {
    "id": "8585e37c",
    "tags": []
   },
   "outputs": [
    {
     "name": "stdout",
     "output_type": "stream",
     "text": [
      "After dimensionality reduction\n",
      "knn: 73.725%, 1.527%\n",
      "lgr: 70.632%, 3.342%\n",
      "dtc: 64.556%, 3.702%\n"
     ]
    }
   ],
   "source": [
    "pca = PCA(n_components=13)\n",
    "Xsr = pca.fit_transform(Xs)\n",
    "\n",
    "print(\"After dimensionality reduction\")\n",
    "for k in models:\n",
    "    scores = cross_val_score(models[k], Xsr, y, cv=kf, n_jobs=-1)\n",
    "    print(f\"{k}: {scores.mean():.3%}, {scores.std():.3%}\")"
   ]
  },
  {
   "cell_type": "code",
   "execution_count": null,
   "id": "a4ada92f-860a-40cc-8a4d-56c579ebf0f6",
   "metadata": {},
   "outputs": [],
   "source": []
  }
 ],
 "metadata": {
  "colab": {
   "include_colab_link": true,
   "provenance": []
  },
  "kernelspec": {
   "display_name": "Python 3 (ipykernel)",
   "language": "python",
   "name": "python3"
  },
  "language_info": {
   "codemirror_mode": {
    "name": "ipython",
    "version": 3
   },
   "file_extension": ".py",
   "mimetype": "text/x-python",
   "name": "python",
   "nbconvert_exporter": "python",
   "pygments_lexer": "ipython3",
   "version": "3.11.7"
  }
 },
 "nbformat": 4,
 "nbformat_minor": 5
}
